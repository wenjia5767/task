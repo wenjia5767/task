{
 "cells": [
  {
   "cell_type": "markdown",
   "id": "4cf05752",
   "metadata": {},
   "source": [
    "data\n"
   ]
  },
  {
   "cell_type": "markdown",
   "id": "08b4cc90",
   "metadata": {},
   "source": [
    "bert training data consists of:\n",
    "smashwords:bookscorpus the importance of books\\\n",
    "wikipedia: does not contain original thought\\\n",
    "\n"
   ]
  },
  {
   "cell_type": "markdown",
   "id": "d7f0a494",
   "metadata": {},
   "source": []
  },
  {
   "cell_type": "code",
   "execution_count": 4,
   "id": "3dcb429b",
   "metadata": {},
   "outputs": [
    {
     "name": "stdout",
     "output_type": "stream",
     "text": [
      "Downloading model to ./models\\en.arpa.bin...\n",
      "Error: name 'download_file' is not defined\n"
     ]
    }
   ],
   "source": [
    "import os\n",
    "import kenlm\n",
    "\n",
    "def download_and_load_kenlm():\n",
    "    model_url = \"https://huggingface.co/edugp/kenlm/resolve/main/wikipedia/en.arpa.bin\"\n",
    "    \n",
    "    # Create a local models directory\n",
    "    model_dir = \"./models\"\n",
    "    os.makedirs(model_dir, exist_ok=True)\n",
    "    model_path = os.path.join(model_dir, \"en.arpa.bin\")\n",
    "    \n",
    "    try:\n",
    "        # Only download if file doesn't exist\n",
    "        if not os.path.exists(model_path):\n",
    "            print(f\"Downloading model to {model_path}...\")\n",
    "            download_file(model_url, model_path)\n",
    "        \n",
    "        # Load the model\n",
    "        print(\"Loading KenLM model...\")\n",
    "        model = kenlm.Model(model_path)\n",
    "        print(\"Model loaded successfully!\")\n",
    "        return model\n",
    "        \n",
    "    except Exception as e:\n",
    "        print(f\"Error: {e}\")\n",
    "        return None\n",
    "\n",
    "# Usage\n",
    "model = download_and_load_kenlm()\n",
    "if model:\n",
    "    # Test the model\n",
    "    sentence = \"This is a test sentence.\"\n",
    "    score = model.score(sentence)\n",
    "    print(f\"Score: {score}\")\n",
    "\n"
   ]
  },
  {
   "cell_type": "code",
   "execution_count": 3,
   "id": "a0dffa2e",
   "metadata": {},
   "outputs": [
    {
     "name": "stdout",
     "output_type": "stream",
     "text": [
      "Looking in indexes: https://pypi.org/simple, https://pypi.ngc.nvidia.com\n",
      "Collecting kenlm\n",
      "  Downloading kenlm-0.3.0.tar.gz (427 kB)\n",
      "  Installing build dependencies: started\n",
      "  Installing build dependencies: finished with status 'done'\n",
      "  Getting requirements to build wheel: started\n",
      "  Getting requirements to build wheel: finished with status 'done'\n",
      "  Preparing metadata (pyproject.toml): started\n",
      "  Preparing metadata (pyproject.toml): finished with status 'done'\n",
      "Building wheels for collected packages: kenlm\n",
      "  Building wheel for kenlm (pyproject.toml): started\n",
      "  Building wheel for kenlm (pyproject.toml): finished with status 'done'\n",
      "  Created wheel for kenlm: filename=kenlm-0.3.0-cp39-cp39-win_amd64.whl size=562091 sha256=b67de73134793c2d17333b24434cb21e5810ffe19315e61a98865377d35151be\n",
      "  Stored in directory: C:\\Users\\zhang\\AppData\\Local\\Temp\\pip-ephem-wheel-cache-nalb01dc\\wheels\\a7\\f6\\49\\f8e3d29524caca1836af1d6eab69ffa8a2a0d44add974c206b\n",
      "Successfully built kenlm\n",
      "Installing collected packages: kenlm\n",
      "Successfully installed kenlm-0.3.0\n"
     ]
    }
   ],
   "source": [
    "!pip install kenlm"
   ]
  },
  {
   "cell_type": "markdown",
   "id": "65c3b6e8",
   "metadata": {},
   "source": []
  },
  {
   "cell_type": "markdown",
   "id": "a418fd0e",
   "metadata": {},
   "source": [
    "#### web data"
   ]
  },
  {
   "cell_type": "markdown",
   "id": "258055d0",
   "metadata": {},
   "source": []
  },
  {
   "cell_type": "code",
   "execution_count": null,
   "id": "615e762e",
   "metadata": {},
   "outputs": [],
   "source": []
  }
 ],
 "metadata": {
  "kernelspec": {
   "display_name": "transformer",
   "language": "python",
   "name": "python3"
  },
  "language_info": {
   "codemirror_mode": {
    "name": "ipython",
    "version": 3
   },
   "file_extension": ".py",
   "mimetype": "text/x-python",
   "name": "python",
   "nbconvert_exporter": "python",
   "pygments_lexer": "ipython3",
   "version": "3.9.23"
  }
 },
 "nbformat": 4,
 "nbformat_minor": 5
}
